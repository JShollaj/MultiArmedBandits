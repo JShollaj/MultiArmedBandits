{
 "cells": [
  {
   "cell_type": "markdown",
   "id": "ee8da701",
   "metadata": {
    "id": "47052cae"
   },
   "source": [
    "# Problem Formulation\n",
    "\n",
    "In its 2008 campaign, Obama's team experimented 24 combinations on the campaign webpage, in order to figure out which combination gave the highest sign up rate (number of clicks).\n",
    "\n",
    "In the project, we do the same task: our objective is to figure out which combination/arm is best (i.e. gives most rewards) in the least time possible.\n",
    "\n",
    "**Input**: You just choose which arm to pull.\n",
    "\n",
    "**Interpretation of the output:**  \n",
    "For the following output: {'Arm': '2', 'NetReward': 455, 'Pull': 30, 'Reward': 22}.\n",
    "- Arm: The arm that you pulled. In this case, you pulled arm 2.\n",
    "- Net Reward: The total reward up to the current pull. In this case, your total reward so fair is 455.\n",
    "- Pull: How many times you have pulled. In this case, this is your 30th pull.\n",
    "- Reward: Reward from current pull. In this case, your reward is 22/100. Each tim you pull the arm, the reward is between 0 and 100."
   ]
  },
  {
   "cell_type": "code",
   "execution_count": 10,
   "id": "782e89c7",
   "metadata": {
    "id": "7f7d17b6"
   },
   "outputs": [],
   "source": [
    "import numpy as np\n",
    "import pandas as pd\n",
    "import matplotlib.pyplot as plt \n",
    "plt.style.use('ggplot')"
   ]
  },
  {
   "cell_type": "code",
   "execution_count": 11,
   "id": "91352544",
   "metadata": {
    "id": "53c4f501"
   },
   "outputs": [],
   "source": [
    "import server_pull"
   ]
  },
  {
   "cell_type": "code",
   "execution_count": 12,
   "id": "c5d8fd1f",
   "metadata": {
    "id": "f9e4600b"
   },
   "outputs": [],
   "source": [
    "# Check that server_pull.py is working \n",
    "output = server_pull.pull('user8','QkGstBxV',2)"
   ]
  },
  {
   "cell_type": "code",
   "execution_count": 13,
   "id": "f01a2fd1",
   "metadata": {
    "id": "e3f5c99d",
    "outputId": "c35e5ada-71e5-4bd2-dbd7-413d09afb0d1"
   },
   "outputs": [
    {
     "name": "stdout",
     "output_type": "stream",
     "text": [
      "{'Arm': '2', 'NetReward': 1909977, 'Pull': 118732, 'Reward': 18}\n"
     ]
    }
   ],
   "source": [
    "print(output)"
   ]
  },
  {
   "cell_type": "markdown",
   "id": "f89b9907",
   "metadata": {
    "id": "bde7c9de"
   },
   "source": [
    "## 0. Random Choices (Baseline)"
   ]
  },
  {
   "cell_type": "code",
   "execution_count": 14,
   "id": "509c0040",
   "metadata": {
    "id": "7973b771"
   },
   "outputs": [],
   "source": [
    "# Initialize our recording of results\n",
    "df = pd.DataFrame(np.zeros((24,3)), columns=['count','total_rewards','avg_rewards'], index=[k for k in range(1,25)]) # dataframe filled with zeros\n",
    "df = df.astype(int)\n",
    "base_reward_per_pull = []\n",
    "series_of_arms = []\n",
    "\n",
    "# Choose number of pulls\n",
    "n = 1000\n",
    "\n",
    "# Pull on arm randomly and add results to df\n",
    "for i in range(n):\n",
    "    # Pull an arm\n",
    "    current_arm = np.random.randint(1,24)\n",
    "    series_of_arms.append(current_arm)\n",
    "        \n",
    "    output = server_pull.pull('user8','QkGstBxV',current_arm)\n",
    "    df['count'][current_arm] +=1\n",
    "    df['total_rewards'][current_arm] += output['Reward']\n",
    "    df['avg_rewards'][current_arm] = df['total_rewards'][current_arm]/df['count'][current_arm]\n",
    "    base_reward_per_pull.append(output['Reward'])"
   ]
  },
  {
   "cell_type": "code",
   "execution_count": 15,
   "id": "0f5432d2",
   "metadata": {
    "scrolled": true
   },
   "outputs": [
    {
     "data": {
      "text/html": [
       "<div>\n",
       "<style scoped>\n",
       "    .dataframe tbody tr th:only-of-type {\n",
       "        vertical-align: middle;\n",
       "    }\n",
       "\n",
       "    .dataframe tbody tr th {\n",
       "        vertical-align: top;\n",
       "    }\n",
       "\n",
       "    .dataframe thead th {\n",
       "        text-align: right;\n",
       "    }\n",
       "</style>\n",
       "<table border=\"1\" class=\"dataframe\">\n",
       "  <thead>\n",
       "    <tr style=\"text-align: right;\">\n",
       "      <th></th>\n",
       "      <th>count</th>\n",
       "      <th>total_rewards</th>\n",
       "      <th>avg_rewards</th>\n",
       "    </tr>\n",
       "  </thead>\n",
       "  <tbody>\n",
       "    <tr>\n",
       "      <th>1</th>\n",
       "      <td>52</td>\n",
       "      <td>695</td>\n",
       "      <td>13</td>\n",
       "    </tr>\n",
       "    <tr>\n",
       "      <th>2</th>\n",
       "      <td>38</td>\n",
       "      <td>661</td>\n",
       "      <td>17</td>\n",
       "    </tr>\n",
       "    <tr>\n",
       "      <th>3</th>\n",
       "      <td>43</td>\n",
       "      <td>545</td>\n",
       "      <td>12</td>\n",
       "    </tr>\n",
       "    <tr>\n",
       "      <th>4</th>\n",
       "      <td>50</td>\n",
       "      <td>343</td>\n",
       "      <td>6</td>\n",
       "    </tr>\n",
       "    <tr>\n",
       "      <th>5</th>\n",
       "      <td>46</td>\n",
       "      <td>616</td>\n",
       "      <td>13</td>\n",
       "    </tr>\n",
       "    <tr>\n",
       "      <th>6</th>\n",
       "      <td>47</td>\n",
       "      <td>1077</td>\n",
       "      <td>22</td>\n",
       "    </tr>\n",
       "    <tr>\n",
       "      <th>7</th>\n",
       "      <td>36</td>\n",
       "      <td>792</td>\n",
       "      <td>22</td>\n",
       "    </tr>\n",
       "    <tr>\n",
       "      <th>8</th>\n",
       "      <td>52</td>\n",
       "      <td>1002</td>\n",
       "      <td>19</td>\n",
       "    </tr>\n",
       "    <tr>\n",
       "      <th>9</th>\n",
       "      <td>44</td>\n",
       "      <td>462</td>\n",
       "      <td>10</td>\n",
       "    </tr>\n",
       "    <tr>\n",
       "      <th>10</th>\n",
       "      <td>47</td>\n",
       "      <td>653</td>\n",
       "      <td>13</td>\n",
       "    </tr>\n",
       "    <tr>\n",
       "      <th>11</th>\n",
       "      <td>42</td>\n",
       "      <td>649</td>\n",
       "      <td>15</td>\n",
       "    </tr>\n",
       "    <tr>\n",
       "      <th>12</th>\n",
       "      <td>39</td>\n",
       "      <td>247</td>\n",
       "      <td>6</td>\n",
       "    </tr>\n",
       "    <tr>\n",
       "      <th>13</th>\n",
       "      <td>41</td>\n",
       "      <td>311</td>\n",
       "      <td>7</td>\n",
       "    </tr>\n",
       "    <tr>\n",
       "      <th>14</th>\n",
       "      <td>43</td>\n",
       "      <td>890</td>\n",
       "      <td>20</td>\n",
       "    </tr>\n",
       "    <tr>\n",
       "      <th>15</th>\n",
       "      <td>58</td>\n",
       "      <td>344</td>\n",
       "      <td>5</td>\n",
       "    </tr>\n",
       "    <tr>\n",
       "      <th>16</th>\n",
       "      <td>40</td>\n",
       "      <td>777</td>\n",
       "      <td>19</td>\n",
       "    </tr>\n",
       "    <tr>\n",
       "      <th>17</th>\n",
       "      <td>39</td>\n",
       "      <td>880</td>\n",
       "      <td>22</td>\n",
       "    </tr>\n",
       "    <tr>\n",
       "      <th>18</th>\n",
       "      <td>43</td>\n",
       "      <td>742</td>\n",
       "      <td>17</td>\n",
       "    </tr>\n",
       "    <tr>\n",
       "      <th>19</th>\n",
       "      <td>51</td>\n",
       "      <td>637</td>\n",
       "      <td>12</td>\n",
       "    </tr>\n",
       "    <tr>\n",
       "      <th>20</th>\n",
       "      <td>36</td>\n",
       "      <td>676</td>\n",
       "      <td>18</td>\n",
       "    </tr>\n",
       "    <tr>\n",
       "      <th>21</th>\n",
       "      <td>47</td>\n",
       "      <td>1149</td>\n",
       "      <td>24</td>\n",
       "    </tr>\n",
       "    <tr>\n",
       "      <th>22</th>\n",
       "      <td>40</td>\n",
       "      <td>781</td>\n",
       "      <td>19</td>\n",
       "    </tr>\n",
       "    <tr>\n",
       "      <th>23</th>\n",
       "      <td>26</td>\n",
       "      <td>229</td>\n",
       "      <td>8</td>\n",
       "    </tr>\n",
       "    <tr>\n",
       "      <th>24</th>\n",
       "      <td>0</td>\n",
       "      <td>0</td>\n",
       "      <td>0</td>\n",
       "    </tr>\n",
       "  </tbody>\n",
       "</table>\n",
       "</div>"
      ],
      "text/plain": [
       "    count  total_rewards  avg_rewards\n",
       "1      52            695           13\n",
       "2      38            661           17\n",
       "3      43            545           12\n",
       "4      50            343            6\n",
       "5      46            616           13\n",
       "6      47           1077           22\n",
       "7      36            792           22\n",
       "8      52           1002           19\n",
       "9      44            462           10\n",
       "10     47            653           13\n",
       "11     42            649           15\n",
       "12     39            247            6\n",
       "13     41            311            7\n",
       "14     43            890           20\n",
       "15     58            344            5\n",
       "16     40            777           19\n",
       "17     39            880           22\n",
       "18     43            742           17\n",
       "19     51            637           12\n",
       "20     36            676           18\n",
       "21     47           1149           24\n",
       "22     40            781           19\n",
       "23     26            229            8\n",
       "24      0              0            0"
      ]
     },
     "execution_count": 15,
     "metadata": {},
     "output_type": "execute_result"
    }
   ],
   "source": [
    "df"
   ]
  },
  {
   "cell_type": "code",
   "execution_count": 7,
   "id": "205cff4d",
   "metadata": {
    "id": "6d888320",
    "outputId": "aa4fb682-31c1-4640-ae97-774ea5362740"
   },
   "outputs": [
    {
     "name": "stdout",
     "output_type": "stream",
     "text": [
      "The best arm after pulling 1000 times is 21\n",
      "The mean reward per pull for a random model = 15.212\n"
     ]
    }
   ],
   "source": [
    "total_pulls = sum(df['count'])\n",
    "best_arm = df['avg_rewards'].argmax()+1 # As the arm was chosen randomly, the best arm is the one with the best average reward\n",
    "print(\"The best arm after pulling {} times is {}\".format(total_pulls, best_arm))\n",
    "base_mean_reward_per_pull = sum(base_reward_per_pull)/n\n",
    "print(\"The mean reward per pull for a random model = {}\".format(base_mean_reward_per_pull))"
   ]
  },
  {
   "cell_type": "code",
   "execution_count": 8,
   "id": "d10e1c07",
   "metadata": {},
   "outputs": [
    {
     "data": {
      "text/plain": [
       "Text(0.5, 0, 'Step')"
      ]
     },
     "execution_count": 8,
     "metadata": {},
     "output_type": "execute_result"
    },
    {
     "data": {
      "image/png": "[encoded data removed]",
      "text/plain": [
       "<Figure size 1600x800 with 1 Axes>"
      ]
     },
     "metadata": {},
     "output_type": "display_data"
    }
   ],
   "source": [
    "from matplotlib.pyplot import figure\n",
    "figure(figsize=(20, 10), dpi=80)\n",
    "\n",
    "plt.scatter(range(1,len(series_of_arms)+1),series_of_arms)\n",
    "plt.title(\"Arm chosen at each of the {} steps\".format(n))\n",
    "plt.ylabel('Combination number (1 to 24)')\n",
    "plt.xlabel('Step')"
   ]
  },
  {
   "cell_type": "markdown",
   "id": "3b8346dc",
   "metadata": {
    "id": "fc9ef9d8"
   },
   "source": [
    "## 1. Epsilon-greedy"
   ]
  },
  {
   "cell_type": "markdown",
   "id": "e120cd08",
   "metadata": {
    "id": "c626bbfa"
   },
   "source": [
    "\"Idea\" of what the algorithm looks like:\n",
    "\n",
    "```\n",
    "Choose epsilon; # exploration probability  \n",
    "Choose n; # number of iterations\n",
    "\n",
    "for i = 1 to n:  \n",
    "    p = pick a random number from 0 to 1  \n",
    "    if p < epsilon:  \n",
    "       current_bandit = pick bandit at random  # explore  \n",
    "    else:  \n",
    "       current_bandit = pick best bandit so far  # exploit  \n",
    "    reward = current_bandit.pull_arm()  \n",
    "    Update estimation for what rewards the current bandit gives\n",
    "```\n",
    "\n"
   ]
  },
  {
   "cell_type": "code",
   "execution_count": 9,
   "id": "88f44123",
   "metadata": {
    "id": "f2b01c45",
    "scrolled": true
   },
   "outputs": [],
   "source": [
    "# Initialize our recording of results\n",
    "df = pd.DataFrame(np.zeros((24,3)), columns=['count','total_rewards','avg_rewards'], index=[k for k in range(1,25)]) # dataframe filled with zeros\n",
    "df = df.astype(int)\n",
    "series_of_arms = []\n",
    "\n",
    "# First, pull on arm randomly and add results to df\n",
    "current_arm = np.random.randint(1,24)\n",
    "output = server_pull.pull('user8','QkGstBxV',current_arm)\n",
    "df['count'][current_arm] +=1\n",
    "df['total_rewards'][current_arm] += output['Reward']\n",
    "df['avg_rewards'][current_arm] = df['total_rewards'][current_arm]/df['count'][current_arm]\n",
    "eps_reward_per_pull = [output['Reward']]\n",
    "\n",
    "# Then apply the epsilon-greedy algorithm\n",
    "eps = 0.1 # Explore (instead of exploiting) 10% of times\n",
    "n = 1000\n",
    "\n",
    "for i in range(n):\n",
    "    p = np.random.random() # pick a random number from 0 to 1\n",
    "    if p < eps:\n",
    "        current_arm = np.random.randint(1,24) # pick arm at random (= explore)        \n",
    "    else: \n",
    "        current_arm = df['avg_rewards'].argmax()+1 # pick best arm so far, ie arm with best average reward (= exploit)\n",
    "    \n",
    "    series_of_arms.append(current_arm)\n",
    "    # Add results to df\n",
    "    output = server_pull.pull('user8','QkGstBxV',current_arm)\n",
    "    df['count'][current_arm] +=1\n",
    "    df['total_rewards'][current_arm] += output['Reward']\n",
    "    df['avg_rewards'][current_arm] = df['total_rewards'][current_arm]/df['count'][current_arm]\n",
    "    eps_reward_per_pull.append(output['Reward'])\n"
   ]
  },
  {
   "cell_type": "code",
   "execution_count": 10,
   "id": "af6416ea",
   "metadata": {
    "id": "fed33803",
    "outputId": "0160e0e9-68af-434a-de90-2f4906f743a4",
    "scrolled": true
   },
   "outputs": [
    {
     "data": {
      "text/html": [
       "<div>\n",
       "<style scoped>\n",
       "    .dataframe tbody tr th:only-of-type {\n",
       "        vertical-align: middle;\n",
       "    }\n",
       "\n",
       "    .dataframe tbody tr th {\n",
       "        vertical-align: top;\n",
       "    }\n",
       "\n",
       "    .dataframe thead th {\n",
       "        text-align: right;\n",
       "    }\n",
       "</style>\n",
       "<table border=\"1\" class=\"dataframe\">\n",
       "  <thead>\n",
       "    <tr style=\"text-align: right;\">\n",
       "      <th></th>\n",
       "      <th>count</th>\n",
       "      <th>total_rewards</th>\n",
       "      <th>avg_rewards</th>\n",
       "    </tr>\n",
       "  </thead>\n",
       "  <tbody>\n",
       "    <tr>\n",
       "      <th>1</th>\n",
       "      <td>3</td>\n",
       "      <td>28</td>\n",
       "      <td>9</td>\n",
       "    </tr>\n",
       "    <tr>\n",
       "      <th>2</th>\n",
       "      <td>5</td>\n",
       "      <td>82</td>\n",
       "      <td>16</td>\n",
       "    </tr>\n",
       "    <tr>\n",
       "      <th>3</th>\n",
       "      <td>6</td>\n",
       "      <td>93</td>\n",
       "      <td>15</td>\n",
       "    </tr>\n",
       "    <tr>\n",
       "      <th>4</th>\n",
       "      <td>6</td>\n",
       "      <td>36</td>\n",
       "      <td>6</td>\n",
       "    </tr>\n",
       "    <tr>\n",
       "      <th>5</th>\n",
       "      <td>3</td>\n",
       "      <td>34</td>\n",
       "      <td>11</td>\n",
       "    </tr>\n",
       "    <tr>\n",
       "      <th>6</th>\n",
       "      <td>7</td>\n",
       "      <td>136</td>\n",
       "      <td>19</td>\n",
       "    </tr>\n",
       "    <tr>\n",
       "      <th>7</th>\n",
       "      <td>8</td>\n",
       "      <td>191</td>\n",
       "      <td>23</td>\n",
       "    </tr>\n",
       "    <tr>\n",
       "      <th>8</th>\n",
       "      <td>4</td>\n",
       "      <td>73</td>\n",
       "      <td>18</td>\n",
       "    </tr>\n",
       "    <tr>\n",
       "      <th>9</th>\n",
       "      <td>3</td>\n",
       "      <td>29</td>\n",
       "      <td>9</td>\n",
       "    </tr>\n",
       "    <tr>\n",
       "      <th>10</th>\n",
       "      <td>2</td>\n",
       "      <td>33</td>\n",
       "      <td>16</td>\n",
       "    </tr>\n",
       "    <tr>\n",
       "      <th>11</th>\n",
       "      <td>4</td>\n",
       "      <td>66</td>\n",
       "      <td>16</td>\n",
       "    </tr>\n",
       "    <tr>\n",
       "      <th>12</th>\n",
       "      <td>9</td>\n",
       "      <td>75</td>\n",
       "      <td>8</td>\n",
       "    </tr>\n",
       "    <tr>\n",
       "      <th>13</th>\n",
       "      <td>7</td>\n",
       "      <td>46</td>\n",
       "      <td>6</td>\n",
       "    </tr>\n",
       "    <tr>\n",
       "      <th>14</th>\n",
       "      <td>4</td>\n",
       "      <td>90</td>\n",
       "      <td>22</td>\n",
       "    </tr>\n",
       "    <tr>\n",
       "      <th>15</th>\n",
       "      <td>3</td>\n",
       "      <td>20</td>\n",
       "      <td>6</td>\n",
       "    </tr>\n",
       "    <tr>\n",
       "      <th>16</th>\n",
       "      <td>1</td>\n",
       "      <td>20</td>\n",
       "      <td>20</td>\n",
       "    </tr>\n",
       "    <tr>\n",
       "      <th>17</th>\n",
       "      <td>7</td>\n",
       "      <td>166</td>\n",
       "      <td>23</td>\n",
       "    </tr>\n",
       "    <tr>\n",
       "      <th>18</th>\n",
       "      <td>5</td>\n",
       "      <td>89</td>\n",
       "      <td>17</td>\n",
       "    </tr>\n",
       "    <tr>\n",
       "      <th>19</th>\n",
       "      <td>4</td>\n",
       "      <td>58</td>\n",
       "      <td>14</td>\n",
       "    </tr>\n",
       "    <tr>\n",
       "      <th>20</th>\n",
       "      <td>22</td>\n",
       "      <td>394</td>\n",
       "      <td>17</td>\n",
       "    </tr>\n",
       "    <tr>\n",
       "      <th>21</th>\n",
       "      <td>882</td>\n",
       "      <td>21510</td>\n",
       "      <td>24</td>\n",
       "    </tr>\n",
       "    <tr>\n",
       "      <th>22</th>\n",
       "      <td>3</td>\n",
       "      <td>65</td>\n",
       "      <td>21</td>\n",
       "    </tr>\n",
       "    <tr>\n",
       "      <th>23</th>\n",
       "      <td>3</td>\n",
       "      <td>12</td>\n",
       "      <td>4</td>\n",
       "    </tr>\n",
       "    <tr>\n",
       "      <th>24</th>\n",
       "      <td>0</td>\n",
       "      <td>0</td>\n",
       "      <td>0</td>\n",
       "    </tr>\n",
       "  </tbody>\n",
       "</table>\n",
       "</div>"
      ],
      "text/plain": [
       "    count  total_rewards  avg_rewards\n",
       "1       3             28            9\n",
       "2       5             82           16\n",
       "3       6             93           15\n",
       "4       6             36            6\n",
       "5       3             34           11\n",
       "6       7            136           19\n",
       "7       8            191           23\n",
       "8       4             73           18\n",
       "9       3             29            9\n",
       "10      2             33           16\n",
       "11      4             66           16\n",
       "12      9             75            8\n",
       "13      7             46            6\n",
       "14      4             90           22\n",
       "15      3             20            6\n",
       "16      1             20           20\n",
       "17      7            166           23\n",
       "18      5             89           17\n",
       "19      4             58           14\n",
       "20     22            394           17\n",
       "21    882          21510           24\n",
       "22      3             65           21\n",
       "23      3             12            4\n",
       "24      0              0            0"
      ]
     },
     "execution_count": 10,
     "metadata": {},
     "output_type": "execute_result"
    }
   ],
   "source": [
    "df"
   ]
  },
  {
   "cell_type": "code",
   "execution_count": 11,
   "id": "29fafbaa",
   "metadata": {
    "id": "3c92bd6d",
    "outputId": "642478f7-127d-4d4f-b4b8-ae61581ba9fc"
   },
   "outputs": [
    {
     "name": "stdout",
     "output_type": "stream",
     "text": [
      "The best arm after pulling 1001 times is 21\n",
      "The mean reward per pull for epsilon-greedy algorithm = 23.322677322677322\n"
     ]
    }
   ],
   "source": [
    "total_pulls = sum(df['count'])\n",
    "best_arm = df['avg_rewards'].argmax()+1 # As the arm was chosen randomly during exploration, the best arm is the one with the best average reward\n",
    "print(\"The best arm after pulling {} times is {}\".format(total_pulls, best_arm))\n",
    "eps_mean_reward_per_pull = sum(eps_reward_per_pull)/(n+1)\n",
    "print(\"The mean reward per pull for epsilon-greedy algorithm = {}\".format(eps_mean_reward_per_pull))"
   ]
  },
  {
   "cell_type": "code",
   "execution_count": 12,
   "id": "3f71a6ac",
   "metadata": {},
   "outputs": [
    {
     "data": {
      "text/plain": [
       "Text(0.5, 0, 'Step')"
      ]
     },
     "execution_count": 12,
     "metadata": {},
     "output_type": "execute_result"
    },
    {
     "data": {
      "image/png": "[encoded data removed]",
      "text/plain": [
       "<Figure size 1600x800 with 1 Axes>"
      ]
     },
     "metadata": {},
     "output_type": "display_data"
    }
   ],
   "source": [
    "from matplotlib.pyplot import figure\n",
    "figure(figsize=(20, 10), dpi=80)\n",
    "\n",
    "plt.scatter(range(1,len(series_of_arms)+1),series_of_arms)\n",
    "plt.title(\"Arm chosen at each of the {} steps\".format(n))\n",
    "plt.ylabel('Combination number (1 to 24)')\n",
    "plt.xlabel('Step')"
   ]
  },
  {
   "cell_type": "markdown",
   "id": "ffcf87c1",
   "metadata": {
    "id": "32bed61f"
   },
   "source": [
    "## 2. Bayesian Thompson Sampling"
   ]
  },
  {
   "cell_type": "code",
   "execution_count": 19,
   "id": "9a86246a",
   "metadata": {},
   "outputs": [],
   "source": [
    "rewards=pd.DataFrame()"
   ]
  },
  {
   "cell_type": "code",
   "execution_count": 20,
   "id": "ed2fe1fb",
   "metadata": {},
   "outputs": [
    {
     "data": {
      "text/plain": [
       "0     17.5\n",
       "1     11.0\n",
       "2     19.5\n",
       "3     13.5\n",
       "4      7.0\n",
       "5     16.0\n",
       "6     26.0\n",
       "7     27.0\n",
       "8     21.5\n",
       "9      9.0\n",
       "10    13.5\n",
       "11    12.5\n",
       "12     8.5\n",
       "13    11.0\n",
       "14    20.0\n",
       "15     6.5\n",
       "16    19.5\n",
       "17    19.5\n",
       "18    16.5\n",
       "19    13.0\n",
       "20    22.0\n",
       "21    24.0\n",
       "22    19.5\n",
       "23     9.5\n",
       "dtype: float64"
      ]
     },
     "execution_count": 20,
     "metadata": {},
     "output_type": "execute_result"
    }
   ],
   "source": [
    "df[:2].mean()"
   ]
  },
  {
   "cell_type": "code",
   "execution_count": 21,
   "id": "c22e30db",
   "metadata": {},
   "outputs": [
    {
     "data": {
      "text/plain": [
       "0     18.0\n",
       "1     12.0\n",
       "2     23.0\n",
       "3     17.0\n",
       "4      8.0\n",
       "5     19.0\n",
       "6     30.0\n",
       "7     30.0\n",
       "8     24.0\n",
       "9      9.0\n",
       "10    15.0\n",
       "11    14.0\n",
       "12     9.0\n",
       "13    11.0\n",
       "14    23.0\n",
       "15     8.0\n",
       "16    21.0\n",
       "17    20.0\n",
       "18    18.0\n",
       "19    16.0\n",
       "20    22.0\n",
       "21    25.0\n",
       "22    23.0\n",
       "23    13.0\n",
       "Name: max, dtype: float64"
      ]
     },
     "execution_count": 21,
     "metadata": {},
     "output_type": "execute_result"
    }
   ],
   "source": [
    "df[:2].describe().loc['max']"
   ]
  },
  {
   "cell_type": "code",
   "execution_count": 22,
   "id": "8b7438e2",
   "metadata": {},
   "outputs": [],
   "source": [
    "import random"
   ]
  },
  {
   "cell_type": "code",
   "execution_count": 23,
   "id": "597bf6ae",
   "metadata": {},
   "outputs": [
    {
     "name": "stdout",
     "output_type": "stream",
     "text": [
      "21971\n"
     ]
    }
   ],
   "source": [
    "##version1\n",
    "N = 1000                    \n",
    "d = 24           \n",
    "max_reward=max(df.describe().loc['max'])\n",
    "arms_selected = []     \n",
    "series_of_arms = []\n",
    "numbers_of_rewards_1 = [0] * d \n",
    "numbers_of_rewards_0 = [0] * d\n",
    "total_reward = 0    \n",
    "rewards=[]\n",
    "regret=[]\n",
    "for n in range(0, N):      \n",
    "    arm = 0\n",
    "    value=0\n",
    "    Q=0\n",
    "    max_random = 0\n",
    "    max_reward=max(df.loc[n,:])\n",
    "    for i in range(0, d):   \n",
    "        #Beta distribution\n",
    "        random_beta = random.betavariate(numbers_of_rewards_1[i] + 1, numbers_of_rewards_0[i] + 1) \n",
    "        if random_beta > max_random: \n",
    "            max_random = random_beta\n",
    "            arm = i\n",
    "    arms_selected.append(arm)\n",
    "    series_of_arms.append(arm)\n",
    "    reward = df.values[n, arm] \n",
    "    regret.append(max_reward-reward)\n",
    "    max_mean_reward=max(df[:n+1].mean())\n",
    "    if reward >= max_mean_reward:\n",
    "        numbers_of_rewards_1[arm] = numbers_of_rewards_1[arm] + 1\n",
    "    else:\n",
    "        numbers_of_rewards_0[arm] = numbers_of_rewards_0[arm] + 1\n",
    "    total_reward = total_reward + reward\n",
    "print(total_reward)"
   ]
  },
  {
   "cell_type": "code",
   "execution_count": 24,
   "id": "3d329c75",
   "metadata": {},
   "outputs": [
    {
     "data": {
      "text/plain": [
       "27"
      ]
     },
     "execution_count": 24,
     "metadata": {},
     "output_type": "execute_result"
    }
   ],
   "source": [
    "reward"
   ]
  },
  {
   "cell_type": "code",
   "execution_count": 25,
   "id": "815136f2",
   "metadata": {},
   "outputs": [],
   "source": [
    "# Count the number of selections\n",
    "selection = {}\n",
    "for key in arms_selected:\n",
    "    selection[key] = selection.get(key, 0) + 1"
   ]
  },
  {
   "cell_type": "code",
   "execution_count": 26,
   "id": "f1b309f3",
   "metadata": {},
   "outputs": [
    {
     "data": {
      "text/plain": [
       "{22: 15,\n",
       " 14: 15,\n",
       " 19: 8,\n",
       " 2: 12,\n",
       " 21: 456,\n",
       " 23: 9,\n",
       " 11: 9,\n",
       " 9: 9,\n",
       " 17: 27,\n",
       " 3: 9,\n",
       " 16: 23,\n",
       " 13: 10,\n",
       " 18: 9,\n",
       " 7: 140,\n",
       " 1: 7,\n",
       " 12: 8,\n",
       " 15: 9,\n",
       " 0: 9,\n",
       " 4: 10,\n",
       " 5: 9,\n",
       " 10: 8,\n",
       " 20: 12,\n",
       " 8: 42,\n",
       " 6: 135}"
      ]
     },
     "execution_count": 26,
     "metadata": {},
     "output_type": "execute_result"
    }
   ],
   "source": [
    "selection"
   ]
  },
  {
   "cell_type": "code",
   "execution_count": 27,
   "id": "03c19333",
   "metadata": {},
   "outputs": [
    {
     "data": {
      "image/png": "[encoded data removed]",
      "text/plain": [
       "<Figure size 1600x800 with 1 Axes>"
      ]
     },
     "metadata": {},
     "output_type": "display_data"
    }
   ],
   "source": [
    "from matplotlib.pyplot import figure\n",
    "figure(figsize=(20, 10), dpi=80)\n",
    "\n",
    "num_list=sorted(selection.keys())\n",
    "num=[selection[i] for i in num_list]\n",
    "plt.bar(num_list,num,tick_label=num_list)\n",
    "plt.title(\"Histogram of Arms selections\")\n",
    "plt.xlabel(\"Arms\")\n",
    "plt.ylabel(\"Number of times each ad was selected\")\n",
    "plt.show()"
   ]
  },
  {
   "cell_type": "code",
   "execution_count": 28,
   "id": "81e68c4b",
   "metadata": {
    "scrolled": true
   },
   "outputs": [
    {
     "data": {
      "text/plain": [
       "Text(0.5, 0, 'Step')"
      ]
     },
     "execution_count": 28,
     "metadata": {},
     "output_type": "execute_result"
    },
    {
     "data": {
      "image/png": "[encoded data removed]",
      "text/plain": [
       "<Figure size 1600x800 with 1 Axes>"
      ]
     },
     "metadata": {},
     "output_type": "display_data"
    }
   ],
   "source": [
    "figure(figsize=(20, 10), dpi=80)\n",
    "\n",
    "plt.scatter(range(1,len(series_of_arms)+1),series_of_arms)\n",
    "plt.title(\"Arm chosen at each of the {} steps\".format(n))\n",
    "plt.ylabel('Combination number (1 to 24)')\n",
    "plt.xlabel('Step')"
   ]
  },
  {
   "cell_type": "markdown",
   "id": "9b7225cd",
   "metadata": {
    "id": "0e422fd4"
   },
   "source": [
    "##  3. Upper Confidence Bound"
   ]
  },
  {
   "cell_type": "markdown",
   "id": "d9cf0e65",
   "metadata": {
    "id": "c29e355a"
   },
   "source": [
    "The idea of the algorithm is the following:\n",
    "\n",
    "```\n",
    "Choose n # number of iterations\n",
    "Initialisation step. # for UCB1 & UCB1-Tuned we play each bandit once\n",
    "for i = 1 to n do:\n",
    "  current_bandit = pick bandit with greatest upper confidence index\n",
    "  reward = current_bandit.pull_arm()  \n",
    "  Update upper confidence index for current_bandit\n",
    "  \n",
    "```"
   ]
  },
  {
   "cell_type": "code",
   "execution_count": 13,
   "id": "9d09a9bd",
   "metadata": {
    "id": "b99b2bec"
   },
   "outputs": [],
   "source": [
    "# Choose 1000 records from results\n",
    "#df=pd.DataFrame(np.zeros((700,24)),columns=[i for i in range(0,24)])\n",
    "#for x in range(700):\n",
    "#    for y in range(0,24):\n",
    "#        df.loc[x,y]=server_pull.pull('user8','QkGstBxV',y)['Reward']"
   ]
  },
  {
   "cell_type": "code",
   "execution_count": 14,
   "id": "2ca6798f",
   "metadata": {
    "id": "95b72038"
   },
   "outputs": [],
   "source": [
    "df=pd.read_excel('df.xlsx')"
   ]
  },
  {
   "cell_type": "code",
   "execution_count": 15,
   "id": "05d7b587",
   "metadata": {
    "scrolled": true
   },
   "outputs": [
    {
     "data": {
      "text/html": [
       "<div>\n",
       "<style scoped>\n",
       "    .dataframe tbody tr th:only-of-type {\n",
       "        vertical-align: middle;\n",
       "    }\n",
       "\n",
       "    .dataframe tbody tr th {\n",
       "        vertical-align: top;\n",
       "    }\n",
       "\n",
       "    .dataframe thead th {\n",
       "        text-align: right;\n",
       "    }\n",
       "</style>\n",
       "<table border=\"1\" class=\"dataframe\">\n",
       "  <thead>\n",
       "    <tr style=\"text-align: right;\">\n",
       "      <th></th>\n",
       "      <th>0</th>\n",
       "      <th>1</th>\n",
       "      <th>2</th>\n",
       "      <th>3</th>\n",
       "      <th>4</th>\n",
       "      <th>5</th>\n",
       "      <th>6</th>\n",
       "      <th>7</th>\n",
       "      <th>8</th>\n",
       "      <th>9</th>\n",
       "      <th>...</th>\n",
       "      <th>14</th>\n",
       "      <th>15</th>\n",
       "      <th>16</th>\n",
       "      <th>17</th>\n",
       "      <th>18</th>\n",
       "      <th>19</th>\n",
       "      <th>20</th>\n",
       "      <th>21</th>\n",
       "      <th>22</th>\n",
       "      <th>23</th>\n",
       "    </tr>\n",
       "  </thead>\n",
       "  <tbody>\n",
       "    <tr>\n",
       "      <th>count</th>\n",
       "      <td>1000.000000</td>\n",
       "      <td>1000.000000</td>\n",
       "      <td>1000.000000</td>\n",
       "      <td>1000.000000</td>\n",
       "      <td>1000.000000</td>\n",
       "      <td>1000.000000</td>\n",
       "      <td>1000.000000</td>\n",
       "      <td>1000.00000</td>\n",
       "      <td>1000.000000</td>\n",
       "      <td>1000.000000</td>\n",
       "      <td>...</td>\n",
       "      <td>1000.000000</td>\n",
       "      <td>1000.000000</td>\n",
       "      <td>1000.000000</td>\n",
       "      <td>1000.000000</td>\n",
       "      <td>1000.000000</td>\n",
       "      <td>1000.000000</td>\n",
       "      <td>1000.000000</td>\n",
       "      <td>1000.000000</td>\n",
       "      <td>1000.000000</td>\n",
       "      <td>1000.000000</td>\n",
       "    </tr>\n",
       "    <tr>\n",
       "      <th>mean</th>\n",
       "      <td>18.272000</td>\n",
       "      <td>13.146000</td>\n",
       "      <td>17.116000</td>\n",
       "      <td>12.316000</td>\n",
       "      <td>7.151000</td>\n",
       "      <td>13.368000</td>\n",
       "      <td>22.861000</td>\n",
       "      <td>23.11700</td>\n",
       "      <td>20.819000</td>\n",
       "      <td>10.090000</td>\n",
       "      <td>...</td>\n",
       "      <td>20.684000</td>\n",
       "      <td>5.802000</td>\n",
       "      <td>19.379000</td>\n",
       "      <td>21.970000</td>\n",
       "      <td>17.060000</td>\n",
       "      <td>13.023000</td>\n",
       "      <td>18.458000</td>\n",
       "      <td>24.360000</td>\n",
       "      <td>19.733000</td>\n",
       "      <td>7.833000</td>\n",
       "    </tr>\n",
       "    <tr>\n",
       "      <th>std</th>\n",
       "      <td>3.938976</td>\n",
       "      <td>3.459285</td>\n",
       "      <td>3.939043</td>\n",
       "      <td>3.224988</td>\n",
       "      <td>2.618598</td>\n",
       "      <td>3.342117</td>\n",
       "      <td>4.178892</td>\n",
       "      <td>4.21225</td>\n",
       "      <td>4.035657</td>\n",
       "      <td>2.914514</td>\n",
       "      <td>...</td>\n",
       "      <td>3.969875</td>\n",
       "      <td>2.325555</td>\n",
       "      <td>3.895964</td>\n",
       "      <td>4.175228</td>\n",
       "      <td>3.724281</td>\n",
       "      <td>3.284701</td>\n",
       "      <td>3.753975</td>\n",
       "      <td>4.178739</td>\n",
       "      <td>3.877725</td>\n",
       "      <td>2.625262</td>\n",
       "    </tr>\n",
       "    <tr>\n",
       "      <th>min</th>\n",
       "      <td>6.000000</td>\n",
       "      <td>3.000000</td>\n",
       "      <td>6.000000</td>\n",
       "      <td>4.000000</td>\n",
       "      <td>0.000000</td>\n",
       "      <td>4.000000</td>\n",
       "      <td>11.000000</td>\n",
       "      <td>9.00000</td>\n",
       "      <td>6.000000</td>\n",
       "      <td>2.000000</td>\n",
       "      <td>...</td>\n",
       "      <td>8.000000</td>\n",
       "      <td>0.000000</td>\n",
       "      <td>5.000000</td>\n",
       "      <td>8.000000</td>\n",
       "      <td>7.000000</td>\n",
       "      <td>3.000000</td>\n",
       "      <td>7.000000</td>\n",
       "      <td>12.000000</td>\n",
       "      <td>9.000000</td>\n",
       "      <td>1.000000</td>\n",
       "    </tr>\n",
       "    <tr>\n",
       "      <th>25%</th>\n",
       "      <td>15.000000</td>\n",
       "      <td>11.000000</td>\n",
       "      <td>14.000000</td>\n",
       "      <td>10.000000</td>\n",
       "      <td>5.000000</td>\n",
       "      <td>11.000000</td>\n",
       "      <td>20.000000</td>\n",
       "      <td>20.00000</td>\n",
       "      <td>18.000000</td>\n",
       "      <td>8.000000</td>\n",
       "      <td>...</td>\n",
       "      <td>18.000000</td>\n",
       "      <td>4.000000</td>\n",
       "      <td>17.000000</td>\n",
       "      <td>19.000000</td>\n",
       "      <td>14.000000</td>\n",
       "      <td>11.000000</td>\n",
       "      <td>16.000000</td>\n",
       "      <td>21.000000</td>\n",
       "      <td>17.000000</td>\n",
       "      <td>6.000000</td>\n",
       "    </tr>\n",
       "    <tr>\n",
       "      <th>50%</th>\n",
       "      <td>18.000000</td>\n",
       "      <td>13.000000</td>\n",
       "      <td>17.000000</td>\n",
       "      <td>12.000000</td>\n",
       "      <td>7.000000</td>\n",
       "      <td>13.000000</td>\n",
       "      <td>23.000000</td>\n",
       "      <td>23.00000</td>\n",
       "      <td>21.000000</td>\n",
       "      <td>10.000000</td>\n",
       "      <td>...</td>\n",
       "      <td>21.000000</td>\n",
       "      <td>6.000000</td>\n",
       "      <td>19.000000</td>\n",
       "      <td>22.000000</td>\n",
       "      <td>17.000000</td>\n",
       "      <td>13.000000</td>\n",
       "      <td>18.000000</td>\n",
       "      <td>24.000000</td>\n",
       "      <td>20.000000</td>\n",
       "      <td>8.000000</td>\n",
       "    </tr>\n",
       "    <tr>\n",
       "      <th>75%</th>\n",
       "      <td>21.000000</td>\n",
       "      <td>15.000000</td>\n",
       "      <td>20.000000</td>\n",
       "      <td>14.000000</td>\n",
       "      <td>9.000000</td>\n",
       "      <td>16.000000</td>\n",
       "      <td>26.000000</td>\n",
       "      <td>26.00000</td>\n",
       "      <td>23.000000</td>\n",
       "      <td>12.000000</td>\n",
       "      <td>...</td>\n",
       "      <td>23.000000</td>\n",
       "      <td>7.000000</td>\n",
       "      <td>22.000000</td>\n",
       "      <td>24.000000</td>\n",
       "      <td>19.000000</td>\n",
       "      <td>15.000000</td>\n",
       "      <td>21.000000</td>\n",
       "      <td>27.000000</td>\n",
       "      <td>22.000000</td>\n",
       "      <td>10.000000</td>\n",
       "    </tr>\n",
       "    <tr>\n",
       "      <th>max</th>\n",
       "      <td>32.000000</td>\n",
       "      <td>26.000000</td>\n",
       "      <td>29.000000</td>\n",
       "      <td>22.000000</td>\n",
       "      <td>16.000000</td>\n",
       "      <td>24.000000</td>\n",
       "      <td>38.000000</td>\n",
       "      <td>40.00000</td>\n",
       "      <td>33.000000</td>\n",
       "      <td>20.000000</td>\n",
       "      <td>...</td>\n",
       "      <td>35.000000</td>\n",
       "      <td>14.000000</td>\n",
       "      <td>31.000000</td>\n",
       "      <td>37.000000</td>\n",
       "      <td>29.000000</td>\n",
       "      <td>26.000000</td>\n",
       "      <td>30.000000</td>\n",
       "      <td>39.000000</td>\n",
       "      <td>30.000000</td>\n",
       "      <td>17.000000</td>\n",
       "    </tr>\n",
       "  </tbody>\n",
       "</table>\n",
       "<p>8 rows × 24 columns</p>\n",
       "</div>"
      ],
      "text/plain": [
       "                0            1            2            3            4   \\\n",
       "count  1000.000000  1000.000000  1000.000000  1000.000000  1000.000000   \n",
       "mean     18.272000    13.146000    17.116000    12.316000     7.151000   \n",
       "std       3.938976     3.459285     3.939043     3.224988     2.618598   \n",
       "min       6.000000     3.000000     6.000000     4.000000     0.000000   \n",
       "25%      15.000000    11.000000    14.000000    10.000000     5.000000   \n",
       "50%      18.000000    13.000000    17.000000    12.000000     7.000000   \n",
       "75%      21.000000    15.000000    20.000000    14.000000     9.000000   \n",
       "max      32.000000    26.000000    29.000000    22.000000    16.000000   \n",
       "\n",
       "                5            6           7            8            9   ...  \\\n",
       "count  1000.000000  1000.000000  1000.00000  1000.000000  1000.000000  ...   \n",
       "mean     13.368000    22.861000    23.11700    20.819000    10.090000  ...   \n",
       "std       3.342117     4.178892     4.21225     4.035657     2.914514  ...   \n",
       "min       4.000000    11.000000     9.00000     6.000000     2.000000  ...   \n",
       "25%      11.000000    20.000000    20.00000    18.000000     8.000000  ...   \n",
       "50%      13.000000    23.000000    23.00000    21.000000    10.000000  ...   \n",
       "75%      16.000000    26.000000    26.00000    23.000000    12.000000  ...   \n",
       "max      24.000000    38.000000    40.00000    33.000000    20.000000  ...   \n",
       "\n",
       "                14           15           16           17           18  \\\n",
       "count  1000.000000  1000.000000  1000.000000  1000.000000  1000.000000   \n",
       "mean     20.684000     5.802000    19.379000    21.970000    17.060000   \n",
       "std       3.969875     2.325555     3.895964     4.175228     3.724281   \n",
       "min       8.000000     0.000000     5.000000     8.000000     7.000000   \n",
       "25%      18.000000     4.000000    17.000000    19.000000    14.000000   \n",
       "50%      21.000000     6.000000    19.000000    22.000000    17.000000   \n",
       "75%      23.000000     7.000000    22.000000    24.000000    19.000000   \n",
       "max      35.000000    14.000000    31.000000    37.000000    29.000000   \n",
       "\n",
       "                19           20           21           22           23  \n",
       "count  1000.000000  1000.000000  1000.000000  1000.000000  1000.000000  \n",
       "mean     13.023000    18.458000    24.360000    19.733000     7.833000  \n",
       "std       3.284701     3.753975     4.178739     3.877725     2.625262  \n",
       "min       3.000000     7.000000    12.000000     9.000000     1.000000  \n",
       "25%      11.000000    16.000000    21.000000    17.000000     6.000000  \n",
       "50%      13.000000    18.000000    24.000000    20.000000     8.000000  \n",
       "75%      15.000000    21.000000    27.000000    22.000000    10.000000  \n",
       "max      26.000000    30.000000    39.000000    30.000000    17.000000  \n",
       "\n",
       "[8 rows x 24 columns]"
      ]
     },
     "execution_count": 15,
     "metadata": {},
     "output_type": "execute_result"
    }
   ],
   "source": [
    "df.describe()"
   ]
  },
  {
   "cell_type": "code",
   "execution_count": 16,
   "id": "904be336",
   "metadata": {},
   "outputs": [],
   "source": [
    "import math\n",
    "N = 1000\n",
    "d = 24 # Number of combinations\n",
    "series_of_arms = []\n",
    "arms_selected = []\n",
    "numbers_of_selections = [0] * d\n",
    "sums_of_rewards = [0] * d\n",
    "total_reward = 0\n",
    "\n",
    "for n in range(0, N):\n",
    "    arm = 0\n",
    "    max_upper_bound = 0\n",
    "    for i in range(0, d):\n",
    "        if (numbers_of_selections[i] > 0):\n",
    "            average_reward = sums_of_rewards[i] / numbers_of_selections[i]\n",
    "            delta_i = math.sqrt(3/2 * math.log(n + 1) / numbers_of_selections[i])\n",
    "            upper_bound = average_reward + delta_i\n",
    "        else:\n",
    "            upper_bound = 1e400\n",
    "        if upper_bound > max_upper_bound:\n",
    "            max_upper_bound = upper_bound\n",
    "            arm = i\n",
    "    arms_selected.append(arm)\n",
    "    series_of_arms.append(arm)\n",
    "    numbers_of_selections[arm] = numbers_of_selections[arm] + 1\n",
    "    reward = df.values[n, arm] \n",
    "    sums_of_rewards[arm] = sums_of_rewards[arm] + reward\n",
    "    total_reward = total_reward + reward"
   ]
  },
  {
   "cell_type": "code",
   "execution_count": 17,
   "id": "b4fa5692",
   "metadata": {},
   "outputs": [
    {
     "data": {
      "image/png": "[encoded data removed]",
      "text/plain": [
       "<Figure size 1600x800 with 1 Axes>"
      ]
     },
     "metadata": {},
     "output_type": "display_data"
    }
   ],
   "source": [
    "from matplotlib.pyplot import figure\n",
    "figure(figsize=(20, 10), dpi=80)\n",
    "\n",
    "plt.hist(arms_selected, width=0.3)\n",
    "\n",
    "# Count the number of selections\n",
    "selection = {}\n",
    "for key in arms_selected:\n",
    "    selection[key] = selection.get(key, 0) + 1\n",
    "\n",
    "num_list=sorted(selection.keys())\n",
    "num=[selection[i] for i in num_list]\n",
    "\n",
    "plt.bar(num_list,num,tick_label=num_list)\n",
    "plt.title('Histogram of combinations selections')\n",
    "plt.xlabel('Ads')\n",
    "plt.ylabel('Number of times each ad was selected')\n",
    "plt.show()"
   ]
  },
  {
   "cell_type": "code",
   "execution_count": 18,
   "id": "a1418800",
   "metadata": {},
   "outputs": [
    {
     "data": {
      "text/plain": [
       "Text(0.5, 0, 'Step')"
      ]
     },
     "execution_count": 18,
     "metadata": {},
     "output_type": "execute_result"
    },
    {
     "data": {
      "image/png": "[encoded data removed]",
      "text/plain": [
       "<Figure size 1600x800 with 1 Axes>"
      ]
     },
     "metadata": {},
     "output_type": "display_data"
    }
   ],
   "source": [
    "figure(figsize=(20, 10), dpi=80)\n",
    "\n",
    "plt.scatter(range(1,len(series_of_arms)+1),series_of_arms)\n",
    "plt.title(\"Arm chosen at each of the {} steps\".format(n))\n",
    "plt.ylabel('Combination number (1 to 24)')\n",
    "plt.xlabel('Step')"
   ]
  }
 ],
 "metadata": {
  "colab": {
   "name": "2021_11_14_GP3_v7.ipynb",
   "provenance": []
  },
  "kernelspec": {
   "display_name": "Python 3",
   "language": "python",
   "name": "python3"
  },
  "language_info": {
   "codemirror_mode": {
    "name": "ipython",
    "version": 3
   },
   "file_extension": ".py",
   "mimetype": "text/x-python",
   "name": "python",
   "nbconvert_exporter": "python",
   "pygments_lexer": "ipython3",
   "version": "3.8.8"
  }
 },
 "nbformat": 4,
 "nbformat_minor": 5
}
